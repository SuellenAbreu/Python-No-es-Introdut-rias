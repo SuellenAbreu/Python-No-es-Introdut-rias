{
 "cells": [
  {
   "cell_type": "markdown",
   "id": "92bfc481",
   "metadata": {},
   "source": [
    "# <span style=\"color:violet\">**Fundamentos Python - Dados | Elas + Tech**</span>"
   ]
  },
  {
   "cell_type": "markdown",
   "metadata": {},
   "source": [
    "* Entrada de dados/ingredientes\n",
    "\n",
    "* Processamento dos dados/receita\n",
    "\n",
    "* Saída de dados/bolo "
   ]
  },
  {
   "cell_type": "code",
   "execution_count": null,
   "id": "a4d416d5",
   "metadata": {},
   "outputs": [
    {
     "name": "stdout",
     "output_type": "stream",
     "text": [
      "HELLO!\n",
      "Seja bem vindo!\n"
     ]
    }
   ],
   "source": [
    "#Saída - Para Imprimir\n",
    "print(\"HELLO!\")\n",
    "print(\"Seja bem vindo!\")\n"
   ]
  },
  {
   "cell_type": "code",
   "execution_count": 10,
   "id": "62d68fd2",
   "metadata": {},
   "outputs": [
    {
     "name": "stdout",
     "output_type": "stream",
     "text": [
      "Olá, meu nome é Suellen\n"
     ]
    }
   ],
   "source": [
    "#Entrada\n",
    "nome = input(\"Qual é o seu nome?\")\n",
    "print(\"Olá, meu nome é\", nome)"
   ]
  },
  {
   "cell_type": "markdown",
   "id": "954c8f01",
   "metadata": {},
   "source": [
    "# <span style=\"color:violet\">*1. Variáveis*</span>"
   ]
  },
  {
   "cell_type": "code",
   "execution_count": null,
   "id": "f318c796",
   "metadata": {},
   "outputs": [],
   "source": [
    "\"\"\"\n",
    "Dica:\n",
    "\n",
    "Olá, meu nome é suellen...bla bla bla\n",
    "\n",
    "3 aspas antes e depois consigo adicionar comentário mais longo. \n",
    "\n",
    "\"\"\""
   ]
  },
  {
   "cell_type": "code",
   "execution_count": 19,
   "id": "6478af44",
   "metadata": {},
   "outputs": [
    {
     "name": "stdout",
     "output_type": "stream",
     "text": [
      "38\n",
      "Suellen\n"
     ]
    }
   ],
   "source": [
    "idade = 38   #Criando uma variável- idade recebe 38, será atribuido a idade o valor 38. \n",
    "print(idade)\n",
    "nome = \"Suellen\"\n",
    "print(nome)"
   ]
  },
  {
   "cell_type": "markdown",
   "id": "e19a4293",
   "metadata": {},
   "source": [
    "# <span style=\"color:violet\">*1.1 Tipos de variáveis*</span>\n",
    "* int: números inteiros, ou seja, números sem parte decimal: 0,5,-1,1000\n",
    "* float: números reais, ou seja, números com parte decimal: 1.0, -2.7, 3.14\n",
    "* str (string): cadeias de caracteres, ou seja, dados textuais\n",
    "* bool: valores lógicos (booleanos: True ou False)"
   ]
  },
  {
   "cell_type": "code",
   "execution_count": null,
   "id": "11a7dfb6",
   "metadata": {},
   "outputs": [
    {
     "name": "stdout",
     "output_type": "stream",
     "text": [
      "<class 'int'>\n",
      "<class 'float'>\n",
      "<class 'str'>\n",
      "<class 'bool'>\n",
      "A linguagem que você está estudando é Python\n"
     ]
    }
   ],
   "source": [
    "idade = 38\n",
    "altura = 1.61\n",
    "nome = \"Suellen\"\n",
    "estudando = True\n",
    "\n",
    "print(type(idade))\n",
    "print(type(altura))\n",
    "print(type(nome))\n",
    "print(type(estudando))\n",
    "\n",
    "# Obtendo dados do usuário e salvando em variáveis\n",
    "linguagem = input(\"Qual é a linguagem de programação que você está estudando?\")\n",
    "print(\"A linguagem que você está estudando é\", linguagem)\n",
    "\n",
    "\n"
   ]
  },
  {
   "cell_type": "markdown",
   "id": "1e77eec4",
   "metadata": {},
   "source": [
    "# <span style=\"color:violet\">*2. Operadores Aritméticos e Booleanos*</span>\n"
   ]
  },
  {
   "cell_type": "code",
   "execution_count": 22,
   "id": "12a80339",
   "metadata": {},
   "outputs": [
    {
     "name": "stdout",
     "output_type": "stream",
     "text": [
      "30\n",
      "-10\n",
      "200\n",
      "0.5\n",
      "0\n",
      "2\n",
      "8\n",
      "27\n",
      "9\n",
      "3\n",
      "1\n",
      "10\n"
     ]
    }
   ],
   "source": [
    "# > Operadores aritméticos\n",
    "\n",
    "\"\"\"\n",
    "- Soma: +\n",
    "- Subtração: -\n",
    "- Multiplicação: *\n",
    "- Divisão: /\n",
    "- Divisão inteira: //\n",
    "- Resto da divisão: %\n",
    "- Potência: **\n",
    "\n",
    "\"\"\"\n",
    "\n",
    "numero1 = 10\n",
    "numero2 = 20\n",
    "\n",
    "print(numero1 + numero2)\n",
    "print(numero1 - numero2)\n",
    "print(numero1 * numero2)\n",
    "print(numero1 / numero2)\n",
    "print(numero1 // numero2)\n",
    "print(20 % 3)  #     % Operador módulo, resto da divisão\n",
    "print(2 ** 3)   #     ** Operador de potência           \n",
    "print(3 ** 3)         \n",
    "print(3 ** 2)\n",
    "print(3 ** 1)\n",
    "print(3 ** 0)\n",
    "print(20 // 2)\n",
    "  "
   ]
  },
  {
   "cell_type": "markdown",
   "id": "6d4219a2",
   "metadata": {},
   "source": [
    "# <span style=\"color:violet\">*2.1 Operadores Booleanos*</span>\n"
   ]
  },
  {
   "cell_type": "code",
   "execution_count": 23,
   "id": "d64da52c",
   "metadata": {},
   "outputs": [
    {
     "name": "stdout",
     "output_type": "stream",
     "text": [
      "False\n",
      "True\n",
      "False\n",
      "True\n",
      "True\n",
      "False\n",
      "True\n",
      "True\n"
     ]
    }
   ],
   "source": [
    "# OPERADORES BOOLEANOS\n",
    "\n",
    "\"\"\"\n",
    "- Igualdade: ==\n",
    "- Diferença: !=\n",
    "- Maior que: >\n",
    "- Menor que: <\n",
    "- Maior ou igual: >=\n",
    "- Menor ou igual: <=\n",
    "\n",
    "\"\"\"\n",
    "\n",
    "idade1 = 10 \n",
    "idade2 = 15 \n",
    "altura1 = 1.77          \n",
    "altura2 = 1.65\n",
    "altura3 = altura2\n",
    "\n",
    "print(idade1 > idade2)\n",
    "print(idade1 <= idade2)\n",
    "print(\"Python\" == \"python\")\n",
    "print(\"banana\" != \"abacaxi\")    \n",
    "print(altura1 >= altura2)\n",
    "print(altura2 > altura3)\n",
    "print(altura2 == altura3)\n",
    "print(altura2 >= altura3)\n",
    "\n"
   ]
  }
 ],
 "metadata": {
  "kernelspec": {
   "display_name": "Python 3",
   "language": "python",
   "name": "python3"
  },
  "language_info": {
   "codemirror_mode": {
    "name": "ipython",
    "version": 3
   },
   "file_extension": ".py",
   "mimetype": "text/x-python",
   "name": "python",
   "nbconvert_exporter": "python",
   "pygments_lexer": "ipython3",
   "version": "3.11.0"
  }
 },
 "nbformat": 4,
 "nbformat_minor": 5
}
