{
 "cells": [
  {
   "cell_type": "markdown",
   "id": "963aaa97",
   "metadata": {},
   "source": [
    "# <span style=\"color:violet\">**Python: Noções Introdutórias - Dados | Elas + Tech**</span>\n",
    "\n",
    "\n",
    "\n",
    "\n"
   ]
  },
  {
   "cell_type": "markdown",
   "id": "89482bf9",
   "metadata": {},
   "source": [
    "# <span style=\"color:violet\">*8. Funções*</span>\n",
    "\n"
   ]
  },
  {
   "cell_type": "code",
   "execution_count": 19,
   "id": "ea3d86fe",
   "metadata": {},
   "outputs": [
    {
     "name": "stdout",
     "output_type": "stream",
     "text": [
      "Seja bem-vinda(o), Suellen!\n",
      "Olá, é um prazer ter você fazendo parte do curso de Python!\n",
      "\n",
      "------\n",
      "\n",
      "Seja bem-vinda(o), Aline!\n",
      "Olá, é um prazer ter você fazendo parte do curso de JavaScript!\n",
      "\n",
      "------\n",
      "\n",
      "Seja bem-vinda(o), Suellen!\n",
      "Olá, é um prazer ter você fazendo parte do curso de Python!\n",
      "\n",
      "------\n",
      "\n",
      "O resultado da soma é 12\n"
     ]
    }
   ],
   "source": [
    "# Funções\n",
    "\n",
    "# 1. O que são funções e por que utilizá-las?\n",
    "\n",
    "# Funções que já utilizamos anteriormente...\n",
    "\n",
    "# print() - Imprime uma mensagem (int, float, str) no console (terminal, cmd)\n",
    "# input() # Retorna um dado informado pelo usuário (entrada padrão) e pode receber uma string)\n",
    "# len() # Recebe uma lista e retorna o tamanho dessa lista\n",
    "# max() # Retorna o maior valor de uma lista\n",
    "\n",
    "# 2. Criação de Funções\n",
    "\n",
    "# Funções inicialmente utilizam a palavra reservada def - definição\n",
    "'''def saudacao():\n",
    "    print('Seja bem-vinda(o)!')\n",
    "    print('Olá, é um prazer ter você fazendo parte desse curso!')\n",
    "\n",
    "saudacao()\n",
    "saudacao()\n",
    "saudacao()'''\n",
    "\n",
    "# Função com parâmetros\n",
    "def saudacao(nome, curso):\n",
    "    print(f'Seja bem-vinda(o), {nome}!')\n",
    "    print(f'Olá, é um prazer ter você fazendo parte do curso de {curso}!')\n",
    "\n",
    "saudacao('Suellen', 'Python')\n",
    "\n",
    "print(\"\\n------\\n\")\n",
    "\n",
    "saudacao('Aline', 'JavaScript')\n",
    "\n",
    "print(\"\\n------\\n\")\n",
    "\n",
    "# Função com parâmetros default\n",
    "def saudacao(nome, curso='Python'):\n",
    "    print(f'Seja bem-vinda(o), {nome}!')\n",
    "    print(f'Olá, é um prazer ter você fazendo parte do curso de {curso}!')\n",
    "\n",
    "\n",
    "saudacao('Suellen')\n",
    "\n",
    "print(\"\\n------\\n\")\n",
    "\n",
    "# Funcoes com retorno\n",
    "def soma(num1, num2):\n",
    "    return num1 + num2\n",
    "\n",
    "resultado = soma(5,7)\n",
    "\n",
    "print('O resultado da soma é', resultado)       \n",
    "\n",
    "\n",
    " \n",
    "\n",
    "\n",
    "\n"
   ]
  },
  {
   "cell_type": "code",
   "execution_count": 24,
   "id": "d8a6f702",
   "metadata": {},
   "outputs": [
    {
     "data": {
      "text/plain": [
       "30"
      ]
     },
     "execution_count": 24,
     "metadata": {},
     "output_type": "execute_result"
    }
   ],
   "source": [
    "def calculadora(num1, num2, operacao='+'):\n",
    "    if operacao == '+':\n",
    "        return num1 + num2\n",
    "    elif operacao == '-':\n",
    "        return num1 - num2 \n",
    "    \n",
    "calculadora(10, 20, '-')    \n",
    "calculadora(10, 20, '+')    \n",
    "\n"
   ]
  },
  {
   "cell_type": "markdown",
   "id": "4a4e0de7",
   "metadata": {},
   "source": [
    "# <span style=\"color:violet\">*9. Dicionários*</span>\n",
    "\n"
   ]
  },
  {
   "cell_type": "code",
   "execution_count": 26,
   "id": "7ef7563f",
   "metadata": {},
   "outputs": [
    {
     "name": "stdout",
     "output_type": "stream",
     "text": [
      "{'nome': 'Suellen', 'idade': 28, 'altura': 1.63}\n",
      "28\n",
      "{'nome': 'Suellen', 'idade': 28, 'altura': 1.63, 'programador': True}\n",
      "{'nome': 'Suellen', 'idade': 28, 'altura': 2, 'programador': True}\n"
     ]
    }
   ],
   "source": [
    "# Dicionários\n",
    "\n",
    "# 1. O que são dicionários e por que utilizá-los?\n",
    "\n",
    "# Estrutura de dados não sequencial\n",
    "# Não são indexados\n",
    "# Chave e valor\n",
    "\n",
    "# Criando dicionários\n",
    "dicionario = {}\n",
    "dicionario = dict()\n",
    "\n",
    "dicionario = {'nome': 'Suellen', 'idade': 28, 'altura': 1.63}\n",
    "\n",
    "print(dicionario)  \n",
    "print(dicionario['idade'])\n",
    "\n",
    "# Adicionando elementos em um dicionário\n",
    "dicionario['programador'] = True\n",
    "\n",
    "print(dicionario)\n",
    "\n",
    "dicionario['altura'] = 2\n",
    "\n",
    "print(dicionario)\n",
    "\n",
    "\n"
   ]
  },
  {
   "cell_type": "code",
   "execution_count": 27,
   "id": "7e469fc6",
   "metadata": {},
   "outputs": [
    {
     "name": "stdout",
     "output_type": "stream",
     "text": [
      "nome Suellen\n",
      "idade 28\n",
      "altura 2\n",
      "programador True\n"
     ]
    }
   ],
   "source": [
    "# Iterando sobre um dicionário\n",
    "for chave in dicionario:\n",
    "    print(chave, dicionario[chave])                 "
   ]
  },
  {
   "cell_type": "code",
   "execution_count": 29,
   "id": "71911147",
   "metadata": {},
   "outputs": [
    {
     "name": "stdout",
     "output_type": "stream",
     "text": [
      "False\n",
      "True\n"
     ]
    }
   ],
   "source": [
    "# Testando a existência de uma chave\n",
    "print('peso' in dicionario)\n",
    "print('altura' in dicionario)"
   ]
  }
 ],
 "metadata": {
  "kernelspec": {
   "display_name": "Python 3",
   "language": "python",
   "name": "python3"
  },
  "language_info": {
   "codemirror_mode": {
    "name": "ipython",
    "version": 3
   },
   "file_extension": ".py",
   "mimetype": "text/x-python",
   "name": "python",
   "nbconvert_exporter": "python",
   "pygments_lexer": "ipython3",
   "version": "3.11.0"
  }
 },
 "nbformat": 4,
 "nbformat_minor": 5
}
