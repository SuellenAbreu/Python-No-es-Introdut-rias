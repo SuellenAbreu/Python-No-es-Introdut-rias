{
 "cells": [
  {
   "cell_type": "markdown",
   "id": "2cc6e2d1",
   "metadata": {},
   "source": [
    "# <span style=\"color:violet\">**Python: Noções Introdutórias - Dados | Elas + Tech**</span>\n",
    "\n",
    "3. Conversão de Tipos\n",
    "\n"
   ]
  },
  {
   "cell_type": "code",
   "execution_count": 5,
   "id": "a6da5d7f",
   "metadata": {},
   "outputs": [
    {
     "name": "stdout",
     "output_type": "stream",
     "text": [
      "1020\n",
      "38 <class 'str'>\n",
      "38 <class 'int'>\n",
      "1.61 <class 'str'>\n",
      "1.61 <class 'float'>\n"
     ]
    }
   ],
   "source": [
    "# CONVERSÃO DE TIPOS\n",
    "\n",
    "idade = \"38\"\n",
    "numero1 = \"10\"\n",
    "numero2 = \"20\"\n",
    "\n",
    "print(numero1 + numero2) # Concatenação  - resultando na saída \"1020\" (a combinação do texto \"10\" com \"20\").\n",
    "\n",
    "print(idade, type(idade))\n",
    "\n",
    "idade_inteira = int(idade)\n",
    "\n",
    "print(idade_inteira, type(idade_inteira))\n",
    "\n",
    "# int() converte para inteiro\n",
    "# float() converte para float\n",
    "# str() converte para string\n",
    "# bool() converte para booleano\n",
    "\n",
    "altura = input(\"Informe a sua altura: \") # Entrada de dados\n",
    "\n",
    "print(altura, type(altura)) # Saída de dados\n",
    "\n",
    "altura = float(input(\"Informe a sua altura: \"))\n",
    "\n",
    "print(altura, type(altura)) # Saída de dados \n",
    "\n",
    "\n",
    "\n",
    "\n",
    "\n",
    "\n",
    "\n"
   ]
  }
 ],
 "metadata": {
  "kernelspec": {
   "display_name": "Python 3",
   "language": "python",
   "name": "python3"
  },
  "language_info": {
   "codemirror_mode": {
    "name": "ipython",
    "version": 3
   },
   "file_extension": ".py",
   "mimetype": "text/x-python",
   "name": "python",
   "nbconvert_exporter": "python",
   "pygments_lexer": "ipython3",
   "version": "3.11.0"
  }
 },
 "nbformat": 4,
 "nbformat_minor": 5
}
