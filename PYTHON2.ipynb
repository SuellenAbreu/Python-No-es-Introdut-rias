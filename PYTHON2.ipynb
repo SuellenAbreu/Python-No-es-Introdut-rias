{
 "cells": [
  {
   "cell_type": "markdown",
   "id": "2cc6e2d1",
   "metadata": {},
   "source": [
    "# <span style=\"color:violet\">**Python: Noções Introdutórias - Dados | Elas + Tech**</span>\n",
    "\n",
    "\n",
    "\n",
    "\n"
   ]
  },
  {
   "cell_type": "markdown",
   "id": "e6ccf003",
   "metadata": {},
   "source": [
    "# <span style=\"color:violet\">*4. Laços de Repetição (\"While\")*</span>\n",
    "\n"
   ]
  },
  {
   "cell_type": "code",
   "execution_count": 9,
   "id": "410f83f5",
   "metadata": {},
   "outputs": [
    {
     "name": "stdout",
     "output_type": "stream",
     "text": [
      "Parabéns! Você acertou!\n"
     ]
    }
   ],
   "source": [
    "numero_sorteado = 15\n",
    "\n",
    "numero_escolhido = int(input(\"Informe um número entre 1 e 20: \"))\n",
    "\n",
    "if numero_sorteado == numero_escolhido:\n",
    "    print(\"Parabéns! Você acertou!\")\n",
    "else:\n",
    "    print(\"Que pena! Você errou!\")\n",
    "\n",
    "\n",
    "\n"
   ]
  },
  {
   "cell_type": "code",
   "execution_count": 2,
   "id": "7eb51bfd",
   "metadata": {},
   "outputs": [
    {
     "name": "stdout",
     "output_type": "stream",
     "text": [
      "Você errou, tente novamente...\n",
      "Parabéns! Você acertou!\n"
     ]
    }
   ],
   "source": [
    "    # While - Enquanto\n",
    "numero_sorteado = 15    \n",
    "numero_escolhido = int(input(\"Informe um número entre 1 e 20: \"))\n",
    "while numero_sorteado != numero_escolhido:\n",
    "    print(\"Você errou, tente novamente...\")\n",
    "    numero_escolhido = int(input(\"Informe um número entre 1 e 20: \"))\n",
    "print(\"Parabéns! Você acertou!\")   "
   ]
  },
  {
   "cell_type": "code",
   "execution_count": 10,
   "id": "1da3e1a2",
   "metadata": {},
   "outputs": [
    {
     "name": "stdout",
     "output_type": "stream",
     "text": [
      "0\n",
      "1\n",
      "2\n",
      "3\n",
      "4\n",
      "5\n",
      "6\n",
      "7\n",
      "8\n",
      "9\n"
     ]
    }
   ],
   "source": [
    "# Estrutura com contador\n",
    "\n",
    "contador = 0\n",
    "while contador < 10:\n",
    "    print(contador)\n",
    "    contador = contador + 1\n",
    "\n"
   ]
  },
  {
   "cell_type": "markdown",
   "id": "167b1159",
   "metadata": {},
   "source": [
    "# <span style=\"color:violet\">*5. Laços de Repetição (For)*</span>\n",
    "\n"
   ]
  },
  {
   "cell_type": "code",
   "execution_count": 21,
   "id": "11c03188",
   "metadata": {},
   "outputs": [
    {
     "name": "stdout",
     "output_type": "stream",
     "text": [
      "0\n",
      "1\n",
      "2\n",
      "3\n",
      "4\n",
      "\n",
      "------\n",
      "\n",
      "1\n",
      "2\n",
      "3\n",
      "4\n",
      "\n",
      "------\n",
      "\n",
      "1\n",
      "4\n",
      "7\n",
      "10\n"
     ]
    }
   ],
   "source": [
    "for variavel in range(5): # range - dentro de uma determinada faixa// ate 3 parametros\n",
    "    print(variavel)\n",
    "    \n",
    "print(\"\\n------\\n\")\n",
    "\n",
    "for variavel in range(1, 5): # range - dentro de uma determinada faixa// ate 3 parametros\n",
    "    print(variavel)\n",
    "\n",
    "print(\"\\n------\\n\")\n",
    "\n",
    "for variavel in range(1, 12, 3): # range - dentro de uma determinada faixa// ate 3 parametros\n",
    "    print(variavel)"
   ]
  }
 ],
 "metadata": {
  "kernelspec": {
   "display_name": "Python 3",
   "language": "python",
   "name": "python3"
  },
  "language_info": {
   "codemirror_mode": {
    "name": "ipython",
    "version": 3
   },
   "file_extension": ".py",
   "mimetype": "text/x-python",
   "name": "python",
   "nbconvert_exporter": "python",
   "pygments_lexer": "ipython3",
   "version": "3.11.0"
  }
 },
 "nbformat": 4,
 "nbformat_minor": 5
}
