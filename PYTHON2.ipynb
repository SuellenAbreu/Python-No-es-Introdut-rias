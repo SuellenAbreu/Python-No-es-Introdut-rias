{
 "cells": [
  {
   "cell_type": "markdown",
   "id": "2cc6e2d1",
   "metadata": {},
   "source": [
    "# <span style=\"color:violet\">**Python: Noções Introdutórias - Dados | Elas + Tech**</span>\n",
    "\n",
    "\n",
    "\n",
    "\n"
   ]
  },
  {
   "cell_type": "markdown",
   "id": "e6ccf003",
   "metadata": {},
   "source": [
    "# <span style=\"color:violet\">*4. Laços de Repetição (\"While\")*</span>\n",
    "\n"
   ]
  },
  {
   "cell_type": "code",
   "execution_count": 9,
   "id": "410f83f5",
   "metadata": {},
   "outputs": [
    {
     "name": "stdout",
     "output_type": "stream",
     "text": [
      "Parabéns! Você acertou!\n"
     ]
    }
   ],
   "source": [
    "numero_sorteado = 15\n",
    "\n",
    "numero_escolhido = int(input(\"Informe um número entre 1 e 20: \"))\n",
    "\n",
    "if numero_sorteado == numero_escolhido:\n",
    "    print(\"Parabéns! Você acertou!\")\n",
    "else:\n",
    "    print(\"Que pena! Você errou!\")\n",
    "\n",
    "\n",
    "\n"
   ]
  },
  {
   "cell_type": "code",
   "execution_count": 2,
   "id": "7eb51bfd",
   "metadata": {},
   "outputs": [
    {
     "name": "stdout",
     "output_type": "stream",
     "text": [
      "Você errou, tente novamente...\n",
      "Parabéns! Você acertou!\n"
     ]
    }
   ],
   "source": [
    "    # While - Enquanto\n",
    "numero_sorteado = 15    \n",
    "numero_escolhido = int(input(\"Informe um número entre 1 e 20: \"))\n",
    "while numero_sorteado != numero_escolhido:\n",
    "    print(\"Você errou, tente novamente...\")\n",
    "    numero_escolhido = int(input(\"Informe um número entre 1 e 20: \"))\n",
    "print(\"Parabéns! Você acertou!\")   "
   ]
  },
  {
   "cell_type": "code",
   "execution_count": 10,
   "id": "1da3e1a2",
   "metadata": {},
   "outputs": [
    {
     "name": "stdout",
     "output_type": "stream",
     "text": [
      "0\n",
      "1\n",
      "2\n",
      "3\n",
      "4\n",
      "5\n",
      "6\n",
      "7\n",
      "8\n",
      "9\n"
     ]
    }
   ],
   "source": [
    "# Estrutura com contador\n",
    "\n",
    "contador = 0\n",
    "while contador < 10:\n",
    "    print(contador)\n",
    "    contador = contador + 1\n",
    "\n"
   ]
  },
  {
   "cell_type": "markdown",
   "id": "167b1159",
   "metadata": {},
   "source": [
    "# <span style=\"color:violet\">*5. Laços de Repetição (For)*</span>\n",
    "\n"
   ]
  },
  {
   "cell_type": "code",
   "execution_count": 21,
   "id": "11c03188",
   "metadata": {},
   "outputs": [
    {
     "name": "stdout",
     "output_type": "stream",
     "text": [
      "0\n",
      "1\n",
      "2\n",
      "3\n",
      "4\n",
      "\n",
      "------\n",
      "\n",
      "1\n",
      "2\n",
      "3\n",
      "4\n",
      "\n",
      "------\n",
      "\n",
      "1\n",
      "4\n",
      "7\n",
      "10\n"
     ]
    }
   ],
   "source": [
    "for variavel in range(5): # range - dentro de uma determinada faixa// ate 3 parametros\n",
    "    print(variavel)\n",
    "    \n",
    "print(\"\\n------\\n\")\n",
    "\n",
    "for variavel in range(1, 5): # range - dentro de uma determinada faixa// ate 3 parametros\n",
    "    print(variavel)\n",
    "\n",
    "print(\"\\n------\\n\")\n",
    "\n",
    "for variavel in range(1, 12, 3): # range - dentro de uma determinada faixa// ate 3 parametros\n",
    "    print(variavel)"
   ]
  },
  {
   "cell_type": "markdown",
   "id": "22d10413",
   "metadata": {},
   "source": [
    "# <span style=\"color:violet\">*6. Estrutura de Listas*</span>"
   ]
  },
  {
   "cell_type": "code",
   "execution_count": null,
   "id": "17158084",
   "metadata": {},
   "outputs": [
    {
     "name": "stdout",
     "output_type": "stream",
     "text": [
      "26\n",
      "Elas+Tech\n",
      "3.14159\n",
      "False\n",
      "False\n",
      "[10, 50, 30]\n",
      "[40, 25, 60]\n",
      "[40, 25, 60, 5]\n",
      "[30, 25]\n"
     ]
    }
   ],
   "source": [
    "# Listas\n",
    "\n",
    "#Antes\n",
    "nota1 = 7.9\n",
    "nota2 = 9.7\n",
    "nota3 = 8.2\n",
    "\n",
    "#Com listas\n",
    "notas = [7.9, 9.7, 8.2] # Definido com colchetes\n",
    "\n",
    "#Criando Listas \n",
    "lista = [] # Lista vazia    \n",
    "lista = list() # Lista vazia\n",
    "lista = [26, \"Elas+Tech\", 3.14159, False] # Lista com elementos\n",
    "#print(lista) # Imprimindo a lista\n",
    "lista_de_listas = [10, [1, 2, 3]] # Lista com listas\n",
    "#print(lista_de_listas) # Imprimindo a lista de listas\n",
    "\n",
    "#Indexação e Slices (fatiamento)\n",
    "lista = [26, \"Elas+Tech\", 3.14159, False] # Lista com elementos\n",
    "print(lista[0]) # Imprimindo o primeiro elemento da lista\n",
    "print(lista[1]) # Imprimindo o segundo elemento da lista\n",
    "print(lista[2]) # Imprimindo o terceiro elemento da lista\n",
    "print(lista[3]) # Imprimindo o quarto elemento da lista\n",
    "\n",
    "print(lista[-1]) # Imprimindo o último elemento da lista)\n",
    "\n",
    "#Slices\n",
    "lista = [10, 50, 30, 40, 25, 60, 5] # Lista com elementos\n",
    "print(lista[0:3]) # Imprimindo os três primeiros elementos da lista\n",
    "print(lista[3:6]) # Imprimindo os três últimos elementos da lista\n",
    "print(lista[3:]) # Imprimindo os três últimos elementos da lista\n",
    "print(lista[2:6:2]) # Imprimindo os três últimos elementos da lista\n",
    "\n",
    "\n",
    "\n",
    "\n"
   ]
  },
  {
   "cell_type": "code",
   "execution_count": 6,
   "id": "441e1ca5",
   "metadata": {},
   "outputs": [
    {
     "name": "stdout",
     "output_type": "stream",
     "text": [
      "10\n",
      "50\n",
      "30\n",
      "40\n",
      "25\n",
      "60\n",
      "5\n"
     ]
    }
   ],
   "source": [
    "# Iterações com FOR\n",
    "# 1. Utilizando os próprios elementos da lista\n",
    "for elemento in lista:\n",
    "    print(elemento) # Imprimindo os elementos da lista"
   ]
  },
  {
   "cell_type": "code",
   "execution_count": 13,
   "id": "65e66927",
   "metadata": {},
   "outputs": [
    {
     "name": "stdout",
     "output_type": "stream",
     "text": [
      "Comprimento da lista: 7\n",
      "10\n",
      "50\n",
      "30\n",
      "40\n",
      "25\n",
      "60\n",
      "5\n"
     ]
    }
   ],
   "source": [
    "# 2. Utilizando os índices\n",
    "print(\"Comprimento da lista:\", len(lista)) # Imprimindo o comprimento da lista\n",
    "\n",
    "for i in range(len(lista)):\n",
    "    print(lista[i]) # Imprimindo os elementos da lista       "
   ]
  },
  {
   "cell_type": "markdown",
   "id": "d4b4a1c7",
   "metadata": {},
   "source": [
    "# <span style=\"color:violet\">*7. Métodos e Funções de Listas*</span>"
   ]
  },
  {
   "cell_type": "code",
   "execution_count": 26,
   "id": "7460b507",
   "metadata": {},
   "outputs": [
    {
     "name": "stdout",
     "output_type": "stream",
     "text": [
      "Antes do append: [1, 3, 12, 8, 2]\n",
      "Depois do append: [1, 3, 12, 8, 2, 3]\n",
      "Depois do insert: [1, 3, 10, 12, 8, 2, 3]\n",
      "Depois do extend: [1, 3, 10, 12, 8, 2, 3, 1, 2, 3]\n",
      "Depois do pop: [1, 3, 10, 12, 8, 2, 3, 1, 2]\n",
      "Depois do remove: [1, 10, 12, 8, 2, 3, 1, 2]\n",
      "Quantidade de 3 na lista: 2\n",
      "Indice do elemento 12: 2\n",
      "Depois do sort: [1, 1, 2, 2, 3, 8, 10, 12]\n",
      "Depois do sort reverse: [12, 10, 8, 3, 2, 2, 1, 1]\n"
     ]
    }
   ],
   "source": [
    "# Métodos e Funções de Listas\n",
    "\n",
    "lista = [1, 3, 12, 8, 2] # Lista com elementos\n",
    "\n",
    "# append - adiciona um elemento no final da lista\n",
    "print(\"Antes do append:\", lista)\n",
    "lista.append(3) # Adicionando o elemento 3 no final da lista\n",
    "print(\"Depois do append:\", lista)\n",
    "\n",
    "# insert - adiciona um elemento em uma posição específica da lista\n",
    "lista.insert(2, 10) # Adicionando o elemento 10 na posição 2 da lista\n",
    "print(\"Depois do insert:\", lista)\n",
    "\n",
    "# extend - adiciona uma lista no final da lista\n",
    "lista2 = [1, 2, 3]\n",
    "lista.extend(lista2) # Adicionando a lista2 no final da lista\n",
    "print(\"Depois do extend:\", lista)\n",
    "\n",
    "# pop - remove um elemento da lista\n",
    "lista.pop() # Removendo o último elemento da lista ou informa o indice\n",
    "print(\"Depois do pop:\", lista)\n",
    "\n",
    "# remove\n",
    "\n",
    "lista.remove(3) # Removendo o elemento 3 da lista - remove o primeiro que encontra\n",
    "print(\"Depois do remove:\", lista)\n",
    "\n",
    "# count - conta quantas vezes um elemento aparece na lista\n",
    "print(\"Quantidade de 3 na lista:\", lista.count(2))\n",
    "\n",
    "# index - informa o indice de um elemento na lista\n",
    "print(\"Indice do elemento 12:\", lista.index(12))    \n",
    "\n",
    "# sort - ordenar lista\n",
    "lista.sort() # Ordenando a lista        \n",
    "print(\"Depois do sort:\", lista)\n",
    "lista.sort(reverse=True) # Ordenando a lista de forma decrescente\n",
    "print(\"Depois do sort reverse:\", lista)\n"
   ]
  },
  {
   "cell_type": "code",
   "execution_count": 29,
   "id": "831a88f0",
   "metadata": {},
   "outputs": [
    {
     "name": "stdout",
     "output_type": "stream",
     "text": [
      "Tamanho da lista: 8\n",
      "Soma dos elementos da lista: 39\n",
      "Maior elemento da lista: 12\n",
      "Menor elemento da lista: 1\n"
     ]
    }
   ],
   "source": [
    "# Funções para listas\n",
    "\n",
    "# len - informa o tamanho da lista\n",
    "print(\"Tamanho da lista:\", len(lista))\n",
    "\n",
    "# sum - soma os elementos da lista\n",
    "print(\"Soma dos elementos da lista:\", sum(lista))   \n",
    "\n",
    "# max - informa o maior elemento da lista\n",
    "print(\"Maior elemento da lista:\", max(lista))   \n",
    "\n",
    "# min\n",
    "print(\"Menor elemento da lista:\", min(lista))\n"
   ]
  }
 ],
 "metadata": {
  "kernelspec": {
   "display_name": "Python 3",
   "language": "python",
   "name": "python3"
  },
  "language_info": {
   "codemirror_mode": {
    "name": "ipython",
    "version": 3
   },
   "file_extension": ".py",
   "mimetype": "text/x-python",
   "name": "python",
   "nbconvert_exporter": "python",
   "pygments_lexer": "ipython3",
   "version": "3.11.0"
  }
 },
 "nbformat": 4,
 "nbformat_minor": 5
}
