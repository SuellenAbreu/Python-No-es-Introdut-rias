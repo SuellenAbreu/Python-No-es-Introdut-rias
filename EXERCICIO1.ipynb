{
 "cells": [
  {
   "cell_type": "markdown",
   "id": "460b16f2",
   "metadata": {},
   "source": [
    "# <span style=\"color:violet\">**EXERCÍCIO I**</span>\n",
    "\n",
    "\n"
   ]
  },
  {
   "cell_type": "markdown",
   "id": "fa69e8b5",
   "metadata": {},
   "source": [
    "* Questão 1\n",
    "\n",
    "Muitas vezes é requerido o armazenamento de algum valor ou o resultado de alguma operação, para que os dados possam ser utilizados em outras partes do programa. Para que isso seja possível, o Python permite a criação de variáveis. Sabendo disso, considere o trecho de código a seguir:\n",
    "\n",
    "var1 = 12\n",
    "\n",
    "var2 = 30\n",
    "\n",
    "var3 = var1 XXX var2\n",
    "\n",
    "print(var3)\n",
    "\n",
    "var3 = var3 YYY 2\n",
    "\n",
    "print(var3)\n",
    "\n",
    "A instrução print(var3) exibe na tela o valor armazenado na variável var3, em cada uma das duas vezes que a instrução aparece no script acima. Para que os valores exibidos na tela sejam, nessa ordem, 42 e 21.0, quais operadores matemáticos devem substituir 'XXX' e 'YYY' no trecho de código, respectivamente?\n",
    "\n",
    "\n",
    "A) + e :\n",
    "\n",
    "B) *e /\n",
    "\n",
    "C) + e *\n",
    "\n",
    "D) + e /\n",
    "\n",
    "E) + e //\n",
    "\n"
   ]
  },
  {
   "cell_type": "code",
   "execution_count": 4,
   "id": "33fedcd6",
   "metadata": {},
   "outputs": [
    {
     "name": "stdout",
     "output_type": "stream",
     "text": [
      "42\n",
      "21.0\n"
     ]
    }
   ],
   "source": [
    "# RESPOSTA: D\n",
    "\n",
    "var1 = 12\n",
    "\n",
    "var2 = 30\n",
    "\n",
    "var3 = var1 + var2\n",
    "\n",
    "print(var3)\n",
    "\n",
    "var3 = var3 / 2\n",
    "\n",
    "print(var3)\n",
    "\n",
    "\n"
   ]
  },
  {
   "cell_type": "markdown",
   "id": "d6003121",
   "metadata": {},
   "source": [
    "Questão 2\n",
    "\n",
    "Algumas situações requerem que os dados sejam recebidos diretamente pelo usuário como parte da execução do programa. Isso pode ser feito com a função input(). No entanto, esta função sempre retorna os valores em string. Assim, se os dados esperados do usuário forem numéricos, é importante realizar a conversão dos tipos de dados para que eles possam ser processados. Considere o trecho abaixo:\n",
    "\n",
    "num1 = XXX\n",
    "\n",
    "dobro = 2*num1\n",
    "\n",
    "print(\"O dobro do número digitado é:\", dobro)\n",
    "\n",
    "Levando em consideração que o usuário pode entregar qualquer número como input, o 'XXX' no código acima deve ser substituído por qual elemento?\n",
    "\n",
    "\n",
    "A) input(\"Digite um número a seguir: \")\n",
    "\n",
    "B) float(input(\"Digite um número a seguir: \"))\n",
    "\n",
    "C) str(input(\"Digite um número a seguir: \"))\n",
    "\n",
    "D) int(input(\"Digite um número a seguir: \"))\n",
    "\n",
    "E) list(input(\"Digite um número a seguir:\"))"
   ]
  },
  {
   "cell_type": "code",
   "execution_count": null,
   "id": "b2ce3980",
   "metadata": {},
   "outputs": [
    {
     "name": "stdout",
     "output_type": "stream",
     "text": [
      "O dobro do número digitado é: 22.4\n"
     ]
    }
   ],
   "source": [
    "# RESPOSTA: B\n",
    "\n",
    "num1 = float(input(\"Digite um número a seguir: \"))\n",
    "\n",
    "\n",
    "dobro = 2*num1\n",
    "\n",
    "print(\"O dobro do número digitado é:\", dobro)"
   ]
  },
  {
   "cell_type": "markdown",
   "id": "cf5164c0",
   "metadata": {},
   "source": [
    "Questão 3\n",
    "Resposta correta\n",
    "Para a construção de programas flexíveis e mais complexos, é necessário que haja a realização de comparações. Isso é possível com o uso de operadores lógicos de comparação (em python: ==, !=, <, <=, >, >=), como mostra o código:\n",
    "\n",
    "x = 10\n",
    "y = 4.2\n",
    "\n",
    "num = float(input(\"Digite um número a seguir: \"))\n",
    "\n",
    "print(num > x*y, num <= x + y, num*y != x*y)\n",
    "\n",
    "Suponha que na execução do script acima, o usuário digitou o valor 10, quando solicitado pelo input. Qual das alternativas a seguir produz o mesmo output que o script acima?\n",
    "\n",
    "A) print(num == x, num == y, num == x + y)\n",
    "\n",
    "B) print(2 == \"2\", False, 2.0 == 2)\n",
    "\n",
    "C) print(True, False, False)\n",
    "\n",
    "D) print(num == x*y, num*y == x*y, y > x + num)\n",
    "\n",
    "E) print(False, True, True)"
   ]
  },
  {
   "cell_type": "code",
   "execution_count": 1,
   "id": "f4ff1c8e",
   "metadata": {},
   "outputs": [
    {
     "name": "stdout",
     "output_type": "stream",
     "text": [
      "False True False\n"
     ]
    }
   ],
   "source": [
    "# Resposta: D\n",
    "\n",
    "x = 10\n",
    "y = 4.2\n",
    "\n",
    "num = float(input(\"Digite um número a seguir: \"))\n",
    "\n",
    "print(num > x*y, num <= x + y, num*y != x*y)"
   ]
  }
 ],
 "metadata": {
  "kernelspec": {
   "display_name": "Python 3",
   "language": "python",
   "name": "python3"
  },
  "language_info": {
   "codemirror_mode": {
    "name": "ipython",
    "version": 3
   },
   "file_extension": ".py",
   "mimetype": "text/x-python",
   "name": "python",
   "nbconvert_exporter": "python",
   "pygments_lexer": "ipython3",
   "version": "3.11.0"
  }
 },
 "nbformat": 4,
 "nbformat_minor": 5
}
